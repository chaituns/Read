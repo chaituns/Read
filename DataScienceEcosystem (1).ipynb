{
 "cells": [
  {
   "cell_type": "markdown",
   "id": "6aa2ce1b-f2dd-4262-b76f-dc9605b56ec5",
   "metadata": {},
   "source": [
    "# Data Science Tools and Ecosystem"
   ]
  },
  {
   "cell_type": "markdown",
   "id": "26deb215-8242-4efa-8a28-e96072ef6355",
   "metadata": {},
   "source": [
    "In this notebook, Data Science Tools and Ecosystem are summarized."
   ]
  },
  {
   "cell_type": "markdown",
   "id": "d393b2aa-8285-4475-b81a-ebd53dc4585f",
   "metadata": {},
   "source": [
    "Some of the popular languages that Data Scientists use are:"
   ]
  },
  {
   "cell_type": "markdown",
   "id": "f809b499-b2c4-4043-983d-389c5dfb73b9",
   "metadata": {},
   "source": [
    "1.Python\n",
    "\n",
    "2.R\n",
    "\n",
    "3.SQL\n",
    "\n",
    "4.Scala\n",
    "\n",
    "5.Java\n",
    "\n",
    "6.C++\n",
    "\n",
    "7.Julia\n",
    "\n",
    "8.JavaScript\n",
    "\n",
    "9.PHP\n",
    "\n",
    "10.Go\n",
    "\n",
    "11.Ruby\n",
    "\n",
    "12.Visual Basic"
   ]
  },
  {
   "cell_type": "markdown",
   "id": "35f6d8e9-08e4-45b0-9af0-a6df44769e0f",
   "metadata": {},
   "source": [
    "Some of the commonly used libraries used by Data Scientists include:\n",
    "* Pandas\n",
    "\n",
    "* Numpy\n",
    "\n",
    "* Matplotlib\n",
    "\n",
    "* Seaborn\n",
    "\n",
    "* Scikit-learn\n",
    "\n",
    "* Keras\n",
    "\n",
    "* TensorFlow\n",
    "\n",
    "* PyTorch\n",
    "\n",
    "* Apache Spark\n",
    "\n",
    "* Vegas\n",
    "\n",
    "* Big DL\n",
    "\n",
    "* Ggplot2"
   ]
  },
  {
   "cell_type": "markdown",
   "id": "373ae4ba-96df-4bca-a170-ab81cb3bba7f",
   "metadata": {},
   "source": [
    "Data Science Tools\n",
    "|-----------------|\n",
    "|Anaconda|\n",
    "|Jupyter Notebook|\n",
    "|R Studio|\n",
    "|Spyder|\n",
    "|Zeppelin|"
   ]
  },
  {
   "cell_type": "markdown",
   "id": "0e072b33-51d8-4092-ae66-a24cf8d3c063",
   "metadata": {},
   "source": [
    "### Below are a few examples of evaluating arithmetic expressions in Python"
   ]
  },
  {
   "cell_type": "code",
   "execution_count": 3,
   "id": "05c3c1cf-fc1c-406d-930e-0a8411a85d6e",
   "metadata": {},
   "outputs": [
    {
     "data": {
      "text/plain": [
       "17"
      ]
     },
     "execution_count": 3,
     "metadata": {},
     "output_type": "execute_result"
    }
   ],
   "source": [
    " # This a simple arithmetic expression to mutiply then add integers\n",
    "(3*4)+5 "
   ]
  },
  {
   "cell_type": "code",
   "execution_count": 4,
   "id": "aee2fb34-059a-48d4-a047-a2ac001b81cb",
   "metadata": {},
   "outputs": [
    {
     "data": {
      "text/plain": [
       "3"
      ]
     },
     "execution_count": 4,
     "metadata": {},
     "output_type": "execute_result"
    }
   ],
   "source": [
    "#  This will convert 200 minutes to hours by diving by 60\n",
    "200//60"
   ]
  },
  {
   "cell_type": "markdown",
   "id": "95e736df-753f-43d8-8752-04f5a1045a91",
   "metadata": {},
   "source": [
    "**Objectives:**\n",
    "* Add comments to the code cells\n",
    "* Create markdown cells\n",
    "* Add ordered unordered lists to the markdown cells\n",
    "* Format content of markdown cells with heading styles"
   ]
  },
  {
   "cell_type": "markdown",
   "id": "c64c8522-d0e0-42a9-8ae4-47543f182587",
   "metadata": {},
   "source": [
    "## Author\n",
    "\n",
    "Nalla sai chaithanya"
   ]
  },
  {
   "cell_type": "code",
   "execution_count": null,
   "id": "ebd395ba-9c42-4974-a094-154085c67b84",
   "metadata": {},
   "outputs": [],
   "source": []
  }
 ],
 "metadata": {
  "kernelspec": {
   "display_name": "Python 3 (ipykernel)",
   "language": "python",
   "name": "python3"
  },
  "language_info": {
   "codemirror_mode": {
    "name": "ipython",
    "version": 3
   },
   "file_extension": ".py",
   "mimetype": "text/x-python",
   "name": "python",
   "nbconvert_exporter": "python",
   "pygments_lexer": "ipython3",
   "version": "3.13.5"
  }
 },
 "nbformat": 4,
 "nbformat_minor": 5
}
